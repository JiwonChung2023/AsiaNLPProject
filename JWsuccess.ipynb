{
 "cells": [
  {
   "cell_type": "code",
   "execution_count": 1,
   "metadata": {},
   "outputs": [
    {
     "name": "stderr",
     "output_type": "stream",
     "text": [
      "C:\\Users\\asiaehrd\\anaconda3\\lib\\site-packages\\requests\\__init__.py:89: RequestsDependencyWarning: urllib3 (1.26.14) or chardet (3.0.4) doesn't match a supported version!\n",
      "  warnings.warn(\"urllib3 ({}) or chardet ({}) doesn't match a supported \"\n"
     ]
    }
   ],
   "source": [
    "# 라이브러리 가져오기\n",
    "\n",
    "import sqlite3\n",
    "import numpy as np\n",
    "import pandas as pd\n",
    "import matplotlib.pyplot as plt\n",
    "import requests\n",
    "from bs4 import BeautifulSoup as bsp\n",
    "from selenium import webdriver\n",
    "from selenium.webdriver.common.by import By\n",
    "from selenium.webdriver.common.keys import Keys\n",
    "from bs4 import BeautifulSoup as bsp\n",
    "import time"
   ]
  },
  {
   "cell_type": "code",
   "execution_count": 2,
   "metadata": {},
   "outputs": [
    {
     "name": "stderr",
     "output_type": "stream",
     "text": [
      "<ipython-input-2-1740d2f2378b>:3: DeprecationWarning: executable_path has been deprecated, please pass in a Service object\n",
      "  driver=webdriver.Chrome(cdriver)\n"
     ]
    }
   ],
   "source": [
    "# 웹드라이버 가져오기\n",
    "cdriver='./driver/chromedriver.exe'\n",
    "driver=webdriver.Chrome(cdriver)\n",
    "driver.set_window_position(0,50)\n",
    "driver.set_window_size(800, 1300)\n",
    "url='https://media.naver.com/press/001/ranking'\n",
    "driver.get(url)\n",
    "time.sleep(2) # 딜레이를 통해 웹이 로딩되는 시간을 기다려줌"
   ]
  },
  {
   "cell_type": "code",
   "execution_count": 4,
   "metadata": {},
   "outputs": [],
   "source": [
    "# 디비 정의 및 함수 정의하기\n",
    "\n",
    "dfile='./db/navernews.db'\n",
    "# \"select\" 구문\n",
    "def sqlPrs(sql='',d=[],opt=1):\n",
    "    with sqlite3.connect(dfile) as conn:\n",
    "        cur=conn.cursor()\n",
    "        # select 문의 경우 실행 후 데이터 반환이 필요하다!\n",
    "        if opt==1:\n",
    "            res=cur.execute(sql).fetchall()\n",
    "        elif opt==2:\n",
    "            # insert: insert into mvreview (rid,title,href,point,user,rday,content) values(?,?,?,?,?,?,?)\n",
    "            res=cur.execute(sql,d)\n",
    "        else:\n",
    "            cur.execute(sql)\n",
    "            res=0\n",
    "        conn.commit()\n",
    "    return(res)\n",
    "\n",
    "def upgradeScrapeComments():\n",
    "    pInfo=driver.find_element(by=By.CSS_SELECTOR,value='div.u_cbox_userinfo_meta > div.u_cbox_userinfo_meta_header > button')\n",
    "    pInfoCon=bsp(pInfo.get_attribute('data-param'),'html.parser')\n",
    "    li1=str(pInfoCon).split(',')\n",
    "    nick=li1[6].replace(\" 'nickName':'\",'').split(\"'\")[0] # 닉네임 추출\n",
    "    nid=li1[7].replace(\" 'maskedId':'\",'').split(\"'\")[0] # 마스크드 아이디 추출\n",
    "    comms=driver.find_elements(by=By.CSS_SELECTOR,value='.u_cbox_area')\n",
    "    jw=0\n",
    "    for com in comms:\n",
    "        if (com.text==''):\n",
    "            pass\n",
    "        else:\n",
    "            if (jw==0):\n",
    "                jw+=1\n",
    "                pass\n",
    "            else:\n",
    "                li2=com.text.split('\\n')\n",
    "                comment=li2[0]\n",
    "                date=li2[1]\n",
    "                whereat=li2[3]\n",
    "                if (date=='댓글모음'):\n",
    "                    pass\n",
    "                else:\n",
    "                    d=[whereat,nid,nick,date,comment] # 데이터베이스 입력\n",
    "                    sql='insert into commentTable (whereat,nid,nick,date,comment) values(?,?,?,?,?)'\n",
    "                    sqlPrs(sql,d,2)\n",
    "        \n",
    "# 오류 나면 이거 다시 실행시켜라\n",
    "def clickIt(ssel,drv=driver):\n",
    "    drv.find_element(by=By.CSS_SELECTOR,value=ssel).click()\n",
    "    \n",
    "def goScroll(level=0):\n",
    "    #dheight=driver.execute_script('return document.documentElement.scrollHeight')\n",
    "    dheight=driver.execute_script('window.scrollTo(0,{})'.format(level))"
   ]
  },
  {
   "cell_type": "code",
   "execution_count": null,
   "metadata": {},
   "outputs": [
    {
     "name": "stdout",
     "output_type": "stream",
     "text": [
      "\n",
      "현재 1번째 언론사에서 스크레이핑 중....................\n",
      "현재 2번째 언론사에서 스크레이핑 중....................\n",
      "현재 3번째 언론사에서 스크레이핑 중....................\n",
      "현재 5번째 언론사에서 스크레이핑 중....................\n",
      "현재 6번째 언론사에서 스크레이핑 중....................\n",
      "현재 7번째 언론사에서 스크레이핑 중....................\n",
      "현재 8번째 언론사에서 스크레이핑 중....................\n",
      "현재 9번째 언론사에서 스크레이핑 중....................\n",
      "현재 11번째 언론사에서 스크레이핑 중....................\n",
      "현재 14번째 언론사에서 스크레이핑 중....................\n",
      "현재 15번째 언론사에서 스크레이핑 중....................\n",
      "현재 16번째 언론사에서 스크레이핑 중....................\n",
      "현재 18번째 언론사에서 스크레이핑 중....................\n",
      "현재 20번째 언론사에서 스크레이핑 중....................\n",
      "현재 21번째 언론사에서 스크레이핑 중....................\n",
      "현재 22번째 언론사에서 스크레이핑 중....................\n",
      "현재 23번째 언론사에서 스크레이핑 중....................\n",
      "현재 24번째 언론사에서 스크레이핑 중....................\n",
      "현재 25번째 언론사에서 스크레이핑 중....................\n",
      "현재 28번째 언론사에서 스크레이핑 중....................\n",
      "현재 29번째 언론사에서 스크레이핑 중....................\n",
      "현재 30번째 언론사에서 스크레이핑 중....................\n",
      "현재 31번째 언론사에서 스크레이핑 중....................\n",
      "현재 32번째 언론사에서 스크레이핑 중....................\n",
      "현재 33번째 언론사에서 스크레이핑 중....................\n",
      "현재 36번째 언론사에서 스크레이핑 중....................\n",
      "현재 37번째 언론사에서 스크레이핑 중....................\n",
      "현재 44번째 언론사에서 스크레이핑 중....................\n",
      "현재 47번째 언론사에서 스크레이핑 중....................\n",
      "현재 50번째 언론사에서 스크레이핑 중....................\n",
      "현재 52번째 언론사에서 스크레이핑 중..."
     ]
    }
   ],
   "source": [
    "# 본 파일\n",
    "for k in range(1,58): # 각 언론사 홈페이지로 이동하기\n",
    "    try:\n",
    "        if (k<10):\n",
    "            uurl='https://media.naver.com/press/00'+str(k)+'/ranking'\n",
    "        else:\n",
    "            uurl='https://media.naver.com/press/0'+str(k)+'/ranking'\n",
    "        driver.get(uurl)\n",
    "        time.sleep(2)\n",
    "\n",
    "        clickIt('#ct > div.press_ranking_home > ul > li:nth-child(2) > a') # 댓글 많은 순 정렬\n",
    "        time.sleep(2)\n",
    "\n",
    "        print('\\n현재 {}번째 언론사에서 스크레이핑 중'.format(k),end='')\n",
    "\n",
    "        for i in range(1,21):\n",
    "            try:\n",
    "                print('.',end='') # 몇 번째 기사인지 알려줌\n",
    "\n",
    "                driver.find_element(by=By.XPATH,value='//*[@id=\"ct\"]/div[2]/div[2]/ul/li[{}]/a'.format(i)).click() #뉴스 스무 개 차례대로 클릭하기\n",
    "                time.sleep(2)\n",
    "\n",
    "                clickIt('#cbox_module > div.u_cbox_wrap.u_cbox_ko.u_cbox_type_sort_favorite > div.u_cbox_view_comment > a') # 댓글 더보기 \n",
    "                time.sleep(2)\n",
    "                try:\n",
    "                    clickIt('#cbox_module > div.u_cbox_wrap.u_cbox_ko.u_cbox_type_sort_favorite > div.u_cbox_paginate > a') # 댓글 더보기 2\n",
    "                    time.sleep(2)\n",
    "\n",
    "                    clickIt('#cbox_module > div.u_cbox_wrap.u_cbox_ko.u_cbox_type_sort_favorite > div.u_cbox_paginate > a') # 댓글 더보기 3\n",
    "                    time.sleep(2)\n",
    "\n",
    "                    clickIt('#cbox_module > div.u_cbox_wrap.u_cbox_ko.u_cbox_type_sort_favorite > div.u_cbox_paginate > a') # 댓글 더보기 4\n",
    "                    time.sleep(2)\n",
    "                except:\n",
    "                    pass\n",
    "            except:\n",
    "                pass\n",
    "\n",
    "            goScroll() # 맨 위로 스크롤하기\n",
    "            comButtons=driver.find_elements(by=By.CSS_SELECTOR,value='div.u_cbox_info > span.u_cbox_info_main > button') # 이용자 최근 댓글 창으로 들어가기\n",
    "            for comB in comButtons:\n",
    "                comB.click()\n",
    "                time.sleep(3)\n",
    "                try:\n",
    "                    upgradeScrapeComments() # 댓글 가져오기\n",
    "                except:\n",
    "                    pass\n",
    "                driver.back()\n",
    "\n",
    "            driver.back()\n",
    "            time.sleep(2)\n",
    "    except:\n",
    "        pass\n",
    "\n",
    "print('*******The program has successfully ended*******')"
   ]
  },
  {
   "cell_type": "code",
   "execution_count": null,
   "metadata": {},
   "outputs": [],
   "source": [
    "어디까지 가야해?? 현재 23언론사인데"
   ]
  }
 ],
 "metadata": {
  "kernelspec": {
   "display_name": "Python 3",
   "language": "python",
   "name": "python3"
  },
  "language_info": {
   "codemirror_mode": {
    "name": "ipython",
    "version": 3
   },
   "file_extension": ".py",
   "mimetype": "text/x-python",
   "name": "python",
   "nbconvert_exporter": "python",
   "pygments_lexer": "ipython3",
   "version": "3.8.3"
  }
 },
 "nbformat": 4,
 "nbformat_minor": 4
}
